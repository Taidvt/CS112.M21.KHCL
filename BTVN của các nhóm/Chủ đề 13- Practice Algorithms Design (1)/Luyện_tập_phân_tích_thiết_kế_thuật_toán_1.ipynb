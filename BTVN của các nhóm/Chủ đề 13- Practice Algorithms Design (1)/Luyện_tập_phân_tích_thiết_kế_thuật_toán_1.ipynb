{
  "nbformat": 4,
  "nbformat_minor": 0,
  "metadata": {
    "colab": {
      "name": "Luyện tập phân tích thiết kế thuật toán 1.ipynb",
      "provenance": []
    },
    "kernelspec": {
      "name": "python3",
      "display_name": "Python 3"
    },
    "language_info": {
      "name": "python"
    }
  },
  "cells": [
    {
      "cell_type": "code",
      "execution_count": null,
      "metadata": {
        "colab": {
          "base_uri": "https://localhost:8080/"
        },
        "id": "UJOMrBjR9WKL",
        "outputId": "2e418e4d-a7ac-435e-eaa2-96a645152080"
      },
      "outputs": [
        {
          "output_type": "stream",
          "name": "stdout",
          "text": [
            "4 4\n",
            "1 2 2 1\n",
            "2 4 2 4\n",
            "2 2 3 1\n",
            "2 4 2 4\n",
            "20\n"
          ]
        }
      ],
      "source": [
        "def duongcheo1(arr, m, n, x, y):\n",
        "    sum = 0\n",
        "    while 0 <= x < m and 0 <= y < n:\n",
        "        sum += arr[x][y]\n",
        "        x += 1\n",
        "        y += 1\n",
        "    return sum\n",
        "def duongcheo2(arr, m, n, x, y):\n",
        "    sum = 0\n",
        "    while 0 <= x < m and 0 <= y < n:\n",
        "        sum+= arr[x][y]\n",
        "        x += 1\n",
        "        y -= 1\n",
        "    return sum\n",
        "def duongcheo3(arr, m, n, x, y):\n",
        "    sum = 0\n",
        "    while 0 <= x < m and 0 <= y < n:\n",
        "        sum += arr[x][y]\n",
        "        x -= 1\n",
        "        y -= 1\n",
        "    return sum\n",
        "def duongcheo4(arr, m, n, x, y):\n",
        "    sum= 0\n",
        "    while 0 <= x < m and 0 <= y < n:\n",
        "        sum += arr[x][y]\n",
        "        x -= 1\n",
        "        y += 1\n",
        "    return sum\n",
        "\n",
        "def tongtreduongcheo(arr, m, n):\n",
        "    maximum = 0\n",
        "    for i in range(m):\n",
        "        for j in range(n):\n",
        "            temp = duongcheo1(arr, m, n, i, j) + duongcheo2(arr, m, n, i, j) + duongcheo3(arr, m, n, i, j) + duongcheo4(arr, m,n,i,j) - 3*arr[i][j]\n",
        "            if temp >  maximum:\n",
        "                maximum = temp\n",
        "    return maximum\n",
        "if __name__ == '__main__':\n",
        "    m, n = map(int, input().split())\n",
        "    arr = []\n",
        "    for i in range(m):\n",
        "        row = [int(i) for i in input().split()]\n",
        "        arr.append(row)\n",
        "    print(tongtreduongcheo(arr,m,n))"
      ]
    },
    {
      "cell_type": "code",
      "source": [
        "num = input().strip()\n",
        "target = int(input())\n",
        "\n",
        "from itertools import combinations\n",
        "\n",
        "sample_list = list(range(1, len(num)))\n",
        "list_combinations = list()\n",
        "for n in range(1, len(sample_list) + 1):\n",
        "    list_combinations += list(combinations(sample_list, n))\n",
        "\n",
        "\n",
        "\n",
        "def Slice(num, slice):\n",
        "  new_num = []\n",
        "  temp = 0\n",
        "  for s in slice:\n",
        "    new_num.append(num[temp: s])\n",
        "    temp = s\n",
        "  new_num.append(num[s:])\n",
        "  return new_num\n",
        "\n",
        "\n",
        "equations = []\n",
        "def FormEquation(num, equation):\n",
        "  global equations\n",
        "  if equation[-1][0] == '0' and len(equation[-1]) > 1:\n",
        "    return\n",
        "  if len(num) < 1:\n",
        "    equations.append(equation)\n",
        "    return\n",
        "  plus = equation + ['+'] + [num[0]]\n",
        "  minus = equation + ['-'] + [num[0]]\n",
        "  multiply = equation + ['*'] + [num[0]]\n",
        "  FormEquation(num[1:], plus)\n",
        "  FormEquation(num[1:], minus)\n",
        "  FormEquation(num[1:], multiply)\n",
        "\n",
        "def Calculate(equation, target):\n",
        "  while len(equation) > 1:\n",
        "    while '*' in equation:\n",
        "      i = equation.index('*')\n",
        "      equation[i] = str(int(equation[i - 1]) * int(equation[i + 1]))\n",
        "      equation.pop(i - 1)\n",
        "      equation.pop(i)\n",
        "    while '-' in equation:\n",
        "      i = equation.index('-')\n",
        "      equation[i] = str(int(equation[i - 1]) - int(equation[i + 1]))\n",
        "      equation.pop(i - 1)\n",
        "      equation.pop(i)\n",
        "    while '+' in equation:\n",
        "      i = equation.index('+')\n",
        "      equation[i] = str(int(equation[i - 1]) + int(equation[i + 1]))\n",
        "      equation.pop(i - 1)\n",
        "      equation.pop(i)\n",
        "    \n",
        "  if int(equation[0]) == target:\n",
        "    return 1\n",
        "  else:\n",
        "    return 0\n",
        "  \n",
        "count = 0  \n",
        "\n",
        "for l in list_combinations:\n",
        "  equations = []\n",
        "  sliced_num = list(Slice(num, l))\n",
        "  FormEquation(sliced_num[1:], [sliced_num[0]])\n",
        "  for equation in equations:\n",
        "    if Calculate(equation, target):\n",
        "      count += 1\n",
        "\n",
        "if len(num) == 1 and int(num[0]) == target:\n",
        "  count += 1\n",
        "print(count)"
      ],
      "metadata": {
        "id": "GyZyBcttn-4D"
      },
      "execution_count": null,
      "outputs": []
    },
    {
      "cell_type": "code",
      "source": [
        "def Nhap():\n",
        "  s, k, n = [int(i) for i in input().strip().split()]\n",
        "  a = []\n",
        "  for i in range(n):\n",
        "    a.append([int(i) for i in input().strip().split()])\n",
        "  return s, k, n, a\n",
        "\n",
        "def Chose(s, k, n, a, pos = -1, currentVal = [], last = -1):\n",
        "  global answer\n",
        "  if sum(currentVal) == s and answer == [] and len(currentVal) == k:\n",
        "    answer = currentVal[:]\n",
        "  elif pos + 1 < k and sum(currentVal) <= s:\n",
        "    for i in range(n):\n",
        "      if pos + 1 == 0 or a[i][pos + 1] >= last:\n",
        "        Chose(s, k, n, a, pos + 1, currentVal + [a[i][pos + 1]], a[i][pos + 1])\n",
        "\n",
        "s, k, n, a = Nhap()\n",
        "\n",
        "answer = []\n",
        "Chose(s, k, n, a)\n",
        "if answer != []:\n",
        "  print('YES')\n",
        "  for i in answer:\n",
        "    print(i, end = ' ')\n",
        "else:\n",
        "  print('NO')"
      ],
      "metadata": {
        "id": "K94gv5L57rZd"
      },
      "execution_count": null,
      "outputs": []
    },
    {
      "cell_type": "code",
      "source": [
        "def timcachsap(cot, hang, target, table, prevChoice, colIdx, prevSum, tempList):\n",
        "    global sapmam\n",
        "    global chon\n",
        "    for rowIdx in range(0,hang):\n",
        "        if chon == 1:\n",
        "            return\n",
        "        if prevChoice <= table[rowIdx][colIdx]:\n",
        "            currChoice = table[rowIdx][colIdx]\n",
        "            temp = currChoice + prevSum\n",
        "            if temp<=target:\n",
        "                currSum = currChoice + prevSum\n",
        "                tempCurrList = tempList[:]\n",
        "                tempCurrList.append(currChoice)\n",
        "            if colIdx == cot - 1:\n",
        "                if currSum == target:\n",
        "                    sapmam = tempCurrList\n",
        "                    chon = 1\n",
        "                    return\n",
        "                continue\n",
        "            if temp> target:\n",
        "              continue\n",
        "            timcachsap(cot, hang, target, table, currChoice, colIdx + 1, currSum, tempCurrList)\n",
        "if __name__ == '__main__':\n",
        "  S, K, N = [int(x) for x in input().split()]\n",
        "  table=[]\n",
        "  for i in range(0,N):\n",
        "    table.append([int(x) for x in input().split()])\n",
        "  sapmam = []\n",
        "  chon = 0\n",
        "  timcachsap(K, N, S, table, 0, 0, 0, [])\n",
        "  if chon ==1:\n",
        "      print('YES')\n",
        "      for i in sapmam:\n",
        "          print(i, end=' ')\n",
        "  else:\n",
        "      print('NO')"
      ],
      "metadata": {
        "colab": {
          "base_uri": "https://localhost:8080/"
        },
        "id": "w8_HbWq59f2u",
        "outputId": "e02f9ca1-00ac-4b33-843a-d0972cf68950"
      },
      "execution_count": null,
      "outputs": [
        {
          "output_type": "stream",
          "name": "stdout",
          "text": [
            "100 3 2\n",
            "30 20 40\n",
            "50 30 50\n",
            "YES\n",
            "30 30 40 "
          ]
        }
      ]
    },
    {
      "cell_type": "code",
      "source": [
        "def Giaido(arr,index,val,target,last,pre_cur):\n",
        "  global count\n",
        "  if index == len(arr) or last == len(arr):\n",
        "    if val == target:\n",
        "      count += 1\n",
        "    return\n",
        "  for i in range(1, len(arr)):\n",
        "    if index + i <= len(arr):\n",
        "        cur_num = arr[index:index+i]\n",
        "        if (cur_num[0] != '0' and len(cur_num)>1) or len(cur_num) == 1:\n",
        "            if index == 0:\n",
        "                Giaido(arr, index + i, val + int(cur_num), target, index + i, int(cur_num))\n",
        "            else:\n",
        "                Giaido(arr, index + i, val + int(cur_num), target, index + i,int(cur_num))\n",
        "                Giaido(arr, index + i, val - int(cur_num), target, index + i,-int(cur_num))\n",
        "                Giaido(arr, index + i, val - pre_cur + pre_cur * int(cur_num), target, index + i,pre_cur*int(cur_num))\n",
        "\n",
        "\n",
        "string = input().strip()\n",
        "target = int(input())\n",
        "count = 0\n",
        "Giaido(string,0,0,target,0,0)\n",
        "print(count)"
      ],
      "metadata": {
        "colab": {
          "base_uri": "https://localhost:8080/"
        },
        "id": "-FH1cXzFC6qv",
        "outputId": "80b74998-5b36-4aec-d183-7ac3f70fe665"
      },
      "execution_count": null,
      "outputs": [
        {
          "output_type": "stream",
          "name": "stdout",
          "text": [
            "123\n",
            "6\n",
            "2\n"
          ]
        }
      ]
    }
  ]
}